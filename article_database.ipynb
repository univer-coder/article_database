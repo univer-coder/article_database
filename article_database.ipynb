{
  "nbformat": 4,
  "nbformat_minor": 0,
  "metadata": {
    "colab": {
      "provenance": [],
      "mount_file_id": "18UU4sPruexWKr0_CeT8Gmeyqu4VGIZBV",
      "authorship_tag": "ABX9TyNFJdd/3X11VjhvmTrUfTzs",
      "include_colab_link": true
    },
    "kernelspec": {
      "name": "python3",
      "display_name": "Python 3"
    },
    "language_info": {
      "name": "python"
    }
  },
  "cells": [
    {
      "cell_type": "markdown",
      "metadata": {
        "id": "view-in-github",
        "colab_type": "text"
      },
      "source": [
        "<a href=\"https://colab.research.google.com/github/univer-coder/article_database/blob/main/article_database.ipynb\" target=\"_parent\"><img src=\"https://colab.research.google.com/assets/colab-badge.svg\" alt=\"Open In Colab\"/></a>"
      ]
    },
    {
      "cell_type": "markdown",
      "source": [
        "#**Notionを使った論文管理**\n",
        "\n",
        "読んだ論文がまとまらずに煩雑になってしまう方の助けになれれば幸いです。"
      ],
      "metadata": {
        "id": "W9bBefW3QEDG"
      }
    },
    {
      "cell_type": "markdown",
      "source": [
        "## このnotebookを自分のdriveにコピーする\n",
        "左上の「ファイル」から「ドライブにコピーを保存」で自分のgoogleドライブ上にコピーを作る。保存先は「Colab notebooks」フォルダの中。コピーを開いて下記を順に進めてください。"
      ],
      "metadata": {
        "id": "5NZ3S_6j7Woq"
      }
    },
    {
      "cell_type": "markdown",
      "source": [
        "## ArticleDB(Template)を用意する\n",
        "\n",
        "1. [https://www.notion.com/ja](https://www.notion.com/ja)から、notionアカウントを作成する。(持ってる方は不要)\n",
        "2. [ArticleDB](https://tofu-tsukuba.notion.site/Article-DataBase-8030b64e2cd247d68359d0edacf098c7)から、notionで外部のデータベーステンプレートを表示する。\n",
        "3. 右上の「複製」から、プライベートのワークスペースへ複製する。\n",
        "\n",
        "\n",
        "\n",
        "\n"
      ],
      "metadata": {
        "id": "JkS-_yzRQ5kL"
      }
    },
    {
      "cell_type": "markdown",
      "source": [
        "## インテグレーションを取得する\n",
        "\n",
        "1. [インテグレーション](https://www.notion.so/my-integrations)から、「新しいインテグレーション(New integration)」をクリックし作成する。\n",
        "2. インテグレーション名を決めて、typeはInternalを選択する。\n",
        "3. Saveで保存したあと、「内部インテグレーションシークレット(Internal Integration Secret)」をコピーしておく。これがトークンキー。"
      ],
      "metadata": {
        "id": "8TPsfBRSSsb1"
      }
    },
    {
      "cell_type": "markdown",
      "source": [
        "## データベースにアクセスする\n",
        "\n",
        "さっき作成したnotionのプライベートワークスペースでArticleDB(Template)を開いた状態で、右上の3点をクリックし、「接続」からArticleDBを選択する。これでデータベースにアクセスできるようになる。"
      ],
      "metadata": {
        "id": "NAVmuAXUUjsk"
      }
    },
    {
      "cell_type": "markdown",
      "source": [
        "#papntのインストール\n",
        "\n",
        "以下のコードを実行する。\n"
      ],
      "metadata": {
        "id": "GlYt4K51mOMR"
      }
    },
    {
      "cell_type": "code",
      "source": [
        "!pip3 install git+https://github.com/issakuss/papnt.git@main"
      ],
      "metadata": {
        "colab": {
          "base_uri": "https://localhost:8080/"
        },
        "id": "Cz5d47E5rNXE",
        "outputId": "f38b58a2-e37c-4f50-8d72-292cf3aedf81"
      },
      "execution_count": 10,
      "outputs": [
        {
          "output_type": "stream",
          "name": "stdout",
          "text": [
            "Collecting git+https://github.com/issakuss/papnt.git@main\n",
            "  Cloning https://github.com/issakuss/papnt.git (to revision main) to /tmp/pip-req-build-fetnz6i4\n",
            "  Running command git clone --filter=blob:none --quiet https://github.com/issakuss/papnt.git /tmp/pip-req-build-fetnz6i4\n",
            "  Resolved https://github.com/issakuss/papnt.git to commit e6a512aeca79438443f6a726b410da5fce4afa6d\n",
            "  Preparing metadata (setup.py) ... \u001b[?25l\u001b[?25hdone\n",
            "Requirement already satisfied: bibtexparser>=1.4.0 in /usr/local/lib/python3.11/dist-packages (from papnt==0.2.1) (1.4.3)\n",
            "Requirement already satisfied: click>=8.0.4 in /usr/local/lib/python3.11/dist-packages (from papnt==0.2.1) (8.1.8)\n",
            "Requirement already satisfied: crossrefapi>=1.5.0 in /usr/local/lib/python3.11/dist-packages (from papnt==0.2.1) (1.6.0)\n",
            "Requirement already satisfied: iso4>=0.0.2 in /usr/local/lib/python3.11/dist-packages (from papnt==0.2.1) (0.0.2)\n",
            "Requirement already satisfied: nltk>=3.6.7 in /usr/local/lib/python3.11/dist-packages (from papnt==0.2.1) (3.9.1)\n",
            "Requirement already satisfied: notion-client>=2.0.0 in /usr/local/lib/python3.11/dist-packages (from papnt==0.2.1) (2.3.0)\n",
            "Requirement already satisfied: pdf2doi>=1.5 in /usr/local/lib/python3.11/dist-packages (from papnt==0.2.1) (1.7)\n",
            "Requirement already satisfied: unidecode>=1.3.6 in /usr/local/lib/python3.11/dist-packages (from papnt==0.2.1) (1.4.0)\n",
            "Requirement already satisfied: arxiv>=2.1.0 in /usr/local/lib/python3.11/dist-packages (from papnt==0.2.1) (2.2.0)\n",
            "Requirement already satisfied: grobid-client-python>=0.0.9 in /usr/local/lib/python3.11/dist-packages (from papnt==0.2.1) (0.0.9)\n",
            "Requirement already satisfied: lxml==4.9.4 in /usr/local/lib/python3.11/dist-packages (from papnt==0.2.1) (4.9.4)\n",
            "Requirement already satisfied: feedparser~=6.0.10 in /usr/local/lib/python3.11/dist-packages (from arxiv>=2.1.0->papnt==0.2.1) (6.0.11)\n",
            "Requirement already satisfied: requests~=2.32.0 in /usr/local/lib/python3.11/dist-packages (from arxiv>=2.1.0->papnt==0.2.1) (2.32.3)\n",
            "Requirement already satisfied: pyparsing>=2.0.3 in /usr/local/lib/python3.11/dist-packages (from bibtexparser>=1.4.0->papnt==0.2.1) (3.2.3)\n",
            "Requirement already satisfied: urllib3==1.26.16 in /usr/local/lib/python3.11/dist-packages (from crossrefapi>=1.5.0->papnt==0.2.1) (1.26.16)\n",
            "Requirement already satisfied: regex>=2017.4.5 in /usr/local/lib/python3.11/dist-packages (from iso4>=0.0.2->papnt==0.2.1) (2024.11.6)\n",
            "Requirement already satisfied: joblib in /usr/local/lib/python3.11/dist-packages (from nltk>=3.6.7->papnt==0.2.1) (1.5.0)\n",
            "Requirement already satisfied: tqdm in /usr/local/lib/python3.11/dist-packages (from nltk>=3.6.7->papnt==0.2.1) (4.67.1)\n",
            "Requirement already satisfied: httpx>=0.23.0 in /usr/local/lib/python3.11/dist-packages (from notion-client>=2.0.0->papnt==0.2.1) (0.28.1)\n",
            "Requirement already satisfied: google>=3.0.0 in /usr/local/lib/python3.11/dist-packages (from pdf2doi>=1.5->papnt==0.2.1) (3.0.0)\n",
            "Requirement already satisfied: pypdf2==2.0.0 in /usr/local/lib/python3.11/dist-packages (from pdf2doi>=1.5->papnt==0.2.1) (2.0.0)\n",
            "Requirement already satisfied: pdftitle>=0.3 in /usr/local/lib/python3.11/dist-packages (from pdf2doi>=1.5->papnt==0.2.1) (0.11)\n",
            "Requirement already satisfied: pyperclip in /usr/local/lib/python3.11/dist-packages (from pdf2doi>=1.5->papnt==0.2.1) (1.9.0)\n",
            "Requirement already satisfied: easygui in /usr/local/lib/python3.11/dist-packages (from pdf2doi>=1.5->papnt==0.2.1) (0.98.3)\n",
            "Requirement already satisfied: pdfminer.six==20221105 in /usr/local/lib/python3.11/dist-packages (from pdf2doi>=1.5->papnt==0.2.1) (20221105)\n",
            "Requirement already satisfied: pymupdf>=1.21.0 in /usr/local/lib/python3.11/dist-packages (from pdf2doi>=1.5->papnt==0.2.1) (1.25.5)\n",
            "Requirement already satisfied: pypdf in /usr/local/lib/python3.11/dist-packages (from pdf2doi>=1.5->papnt==0.2.1) (5.5.0)\n",
            "Requirement already satisfied: charset-normalizer>=2.0.0 in /usr/local/lib/python3.11/dist-packages (from pdfminer.six==20221105->pdf2doi>=1.5->papnt==0.2.1) (3.4.2)\n",
            "Requirement already satisfied: cryptography>=36.0.0 in /usr/local/lib/python3.11/dist-packages (from pdfminer.six==20221105->pdf2doi>=1.5->papnt==0.2.1) (43.0.3)\n",
            "Requirement already satisfied: sgmllib3k in /usr/local/lib/python3.11/dist-packages (from feedparser~=6.0.10->arxiv>=2.1.0->papnt==0.2.1) (1.0.0)\n",
            "Requirement already satisfied: beautifulsoup4 in /usr/local/lib/python3.11/dist-packages (from google>=3.0.0->pdf2doi>=1.5->papnt==0.2.1) (4.13.4)\n",
            "Requirement already satisfied: anyio in /usr/local/lib/python3.11/dist-packages (from httpx>=0.23.0->notion-client>=2.0.0->papnt==0.2.1) (4.9.0)\n",
            "Requirement already satisfied: certifi in /usr/local/lib/python3.11/dist-packages (from httpx>=0.23.0->notion-client>=2.0.0->papnt==0.2.1) (2025.4.26)\n",
            "Requirement already satisfied: httpcore==1.* in /usr/local/lib/python3.11/dist-packages (from httpx>=0.23.0->notion-client>=2.0.0->papnt==0.2.1) (1.0.9)\n",
            "Requirement already satisfied: idna in /usr/local/lib/python3.11/dist-packages (from httpx>=0.23.0->notion-client>=2.0.0->papnt==0.2.1) (3.10)\n",
            "Requirement already satisfied: h11>=0.16 in /usr/local/lib/python3.11/dist-packages (from httpcore==1.*->httpx>=0.23.0->notion-client>=2.0.0->papnt==0.2.1) (0.16.0)\n",
            "Requirement already satisfied: cffi>=1.12 in /usr/local/lib/python3.11/dist-packages (from cryptography>=36.0.0->pdfminer.six==20221105->pdf2doi>=1.5->papnt==0.2.1) (1.17.1)\n",
            "Requirement already satisfied: sniffio>=1.1 in /usr/local/lib/python3.11/dist-packages (from anyio->httpx>=0.23.0->notion-client>=2.0.0->papnt==0.2.1) (1.3.1)\n",
            "Requirement already satisfied: typing_extensions>=4.5 in /usr/local/lib/python3.11/dist-packages (from anyio->httpx>=0.23.0->notion-client>=2.0.0->papnt==0.2.1) (4.13.2)\n",
            "Requirement already satisfied: soupsieve>1.2 in /usr/local/lib/python3.11/dist-packages (from beautifulsoup4->google>=3.0.0->pdf2doi>=1.5->papnt==0.2.1) (2.7)\n",
            "Requirement already satisfied: pycparser in /usr/local/lib/python3.11/dist-packages (from cffi>=1.12->cryptography>=36.0.0->pdfminer.six==20221105->pdf2doi>=1.5->papnt==0.2.1) (2.22)\n"
          ]
        }
      ]
    },
    {
      "cell_type": "code",
      "source": [
        "!git --version # git version ○○が表示されればOK."
      ],
      "metadata": {
        "colab": {
          "base_uri": "https://localhost:8080/"
        },
        "id": "HA-jZecMXlqL",
        "outputId": "70be9006-bed1-4007-de62-aabb6bcdf9c2"
      },
      "execution_count": 11,
      "outputs": [
        {
          "output_type": "stream",
          "name": "stdout",
          "text": [
            "git version 2.34.1\n"
          ]
        }
      ]
    },
    {
      "cell_type": "markdown",
      "source": [
        "## config.iniを編集する\n",
        "まずは次の\n",
        "\n",
        "```!papnt```\n",
        "\n",
        "を実行する。"
      ],
      "metadata": {
        "id": "0RvhXruf2eHT"
      }
    },
    {
      "cell_type": "code",
      "source": [
        "!papnt\n",
        "# 下記config.iniへのpathが表示される。pathをctrl+クリックでconfig.iniを編集する。\n",
        "\n",
        "# 以下出力結果\n",
        "\n",
        "# try `papnt --help` for help\n",
        "# Open config.ini and edit database information:(表示されるpath)"
      ],
      "metadata": {
        "colab": {
          "base_uri": "https://localhost:8080/"
        },
        "id": "GzMIF0EtXuOj",
        "outputId": "666b4d7a-677c-4156-f01d-bd777719f7b8"
      },
      "execution_count": 12,
      "outputs": [
        {
          "output_type": "stream",
          "name": "stdout",
          "text": [
            "try `papnt --help` for help\n",
            "Your config file is in: /usr/local/lib/python3.11/dist-packages/papnt/config.ini\n"
          ]
        }
      ]
    },
    {
      "cell_type": "markdown",
      "source": [
        "出力結果で表示されたpathをコピーしてください。"
      ],
      "metadata": {
        "id": "TNI9vSgR4Ncl"
      }
    },
    {
      "cell_type": "markdown",
      "source": [
        "### 表示されたpathとトークンキーとデータベースIDを記入する"
      ],
      "metadata": {
        "id": "Xo470vZFXzjw"
      }
    },
    {
      "cell_type": "code",
      "source": [
        "config_path = \"先の出力で表示されたpath\"\n",
        "\n",
        "config_content = \"\"\"\n",
        "[database]\n",
        "    tokenkey = 'ここにトークンキー(Internal Integration Secret)を入力'\n",
        "    database_id = 'ここにデータベースIDを入力'\n",
        "\n",
        "[propnames]  ; Propety Names\n",
        "    ; bib name = property name\n",
        "    ; Check bib names: https://ja.wikipedia.org/wiki/BibTeX\n",
        "    ; Note that bib names will be used as lower case\n",
        "    doi = DOI\n",
        "    author = Authors\n",
        "    title = Title\n",
        "    edition = Edition\n",
        "    year = Year\n",
        "    journal = Journal\n",
        "    volume = Volume\n",
        "    pages = Pages\n",
        "    publisher = Publisher\n",
        "    ID = Citekey\n",
        "    ENTRYTYPE = Type\n",
        "    howpublished = HowPublished\n",
        "\n",
        "    ; Other property\n",
        "    output_target = Cite in\n",
        "    pdf = PDF\n",
        "\n",
        "[abbr]  ; Specifiation of abbreviation\n",
        "    Full Name = Abbreviated\n",
        "    PLOS ONE = PLOS ONE\n",
        "\n",
        "[grobid]\n",
        "    server = ''  # Keep it empty if you do not wanna extract fulltext\n",
        "    ; server = 'https://kermitt2-grobid.hf.space'  # Demo server provided by GROBID developer, no use too much!\n",
        "\n",
        "[misc]\n",
        "    ; Directory to save bib files\n",
        "    dir_save_bib = ''\n",
        "\n",
        "\"\"\"\n",
        "\n",
        "with open(config_path, \"w\") as f:\n",
        "    f.write(config_content)\n",
        "\n",
        "print(\"config.ini を書き換えました。\")"
      ],
      "metadata": {
        "colab": {
          "base_uri": "https://localhost:8080/"
        },
        "id": "MyVFVXVlyFHk",
        "outputId": "37caf886-ea79-442e-dd80-37a3d794f398"
      },
      "execution_count": 13,
      "outputs": [
        {
          "output_type": "stream",
          "name": "stdout",
          "text": [
            "config.ini を書き換えました。\n"
          ]
        }
      ]
    },
    {
      "cell_type": "markdown",
      "source": [
        "上のコードセルの最上部に、表示されたpathとトークンキーとデータベースIDを記述しましょう。あとは書き換えなくてOKです。\n",
        "```\n",
        "config_path = \"先の出力で表示されたpath\"\n",
        "\n",
        "config_content = \"\"\"\n",
        "[database]\n",
        "    tokenkey = 'ここにトークンキー(Internal Integration Secret)を入力'\n",
        "    database_id = 'ここにデータベースIDを入力'\n",
        "```\n",
        "例：\n",
        "```\n",
        "config_path = \"/usr/local/lib/python3.11/dist-packages/papnt/config.ini\"\n",
        "\n",
        "config_content = \"\"\"\n",
        "[database]\n",
        "    tokenkey = 'ntn_c73187007198xruW7YnuRHlT6aigu0Wav29f4dfvOYf9W4'\n",
        "    database_id = '1ec1b43a82af81c980aaec6385179d35'\n",
        "```\n",
        "\n",
        "そうしたら、実行する。\n",
        "データベースIDは、ArticleDB(Template)の「テーブルビュー」をクリックし、「ビューのリンクをコピー」する。適当な場所に張り付けると、リンクは次のような形になっている。\n",
        "\n",
        "https:// notion.so/<データベースID>?v=<ビューID>"
      ],
      "metadata": {
        "id": "yu1q_gaL4lkP"
      }
    },
    {
      "cell_type": "markdown",
      "source": [
        "## 論文の保存、情報の反映\n",
        "プライベートワークスペースのArticleDB(Template)にて、論文のDOIを入力する。次の\n",
        "```\n",
        "!papnt doi\n",
        "```\n",
        "を実行すると、他の情報もArticleDB(Template)に記録される。\n"
      ],
      "metadata": {
        "id": "e_Qg1OpNZDOE"
      }
    },
    {
      "cell_type": "code",
      "source": [
        "!papnt doi\n",
        "# これを実行するとArticleDB(Template)に情報を反映。\n",
        "# また、pdfファイルをアップロードすることも可能である。データベース内のPDF欄からアップロードした後、!papnt doiの代わりに!papnt pdfを実行する。"
      ],
      "metadata": {
        "id": "yJnSDdXhGuBT"
      },
      "execution_count": 14,
      "outputs": []
    },
    {
      "cell_type": "markdown",
      "source": [
        "次回以降、DOIを入力してデータベースを更新する際は再度このgoogle colabに接続して **ctrl+F9** を押すとすべてのコードが実行されて、論文情報が追加されます。\n",
        "初回でトークンキーやデータベースIDなどコードを書き換えた場合は、左上の「ファイル」から保存することを忘れずに。"
      ],
      "metadata": {
        "id": "brFDdaTE41jP"
      }
    }
  ]
}