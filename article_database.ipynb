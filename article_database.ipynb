{
  "nbformat": 4,
  "nbformat_minor": 0,
  "metadata": {
    "colab": {
      "provenance": [],
      "authorship_tag": "ABX9TyNII2ZvLqNlsx/5AKm8RrKy",
      "include_colab_link": true
    },
    "kernelspec": {
      "name": "python3",
      "display_name": "Python 3"
    },
    "language_info": {
      "name": "python"
    }
  },
  "cells": [
    {
      "cell_type": "markdown",
      "metadata": {
        "id": "view-in-github",
        "colab_type": "text"
      },
      "source": [
        "<a href=\"https://colab.research.google.com/github/univer-coder/article_database/blob/main/article_database.ipynb\" target=\"_parent\"><img src=\"https://colab.research.google.com/assets/colab-badge.svg\" alt=\"Open In Colab\"/></a>"
      ]
    },
    {
      "cell_type": "markdown",
      "source": [
        "#**Notionを使った論文管理**\n",
        "\n",
        "読んだ論文がまとまらずに煩雑になってしまう方の助けになれれば幸いです。"
      ],
      "metadata": {
        "id": "W9bBefW3QEDG"
      }
    },
    {
      "cell_type": "markdown",
      "source": [
        "## ArticleDB(Template)を用意する\n",
        "\n",
        "1. [https://www.notion.com/ja](https://www.notion.com/ja)から、notionアカウントを作成する。\n",
        "2. [ArticleDB](https://tofu-tsukuba.notion.site/Article-DataBase-8030b64e2cd247d68359d0edacf098c7)から、notionで外部のデータベーステンプレートを表示する。\n",
        "3. 右上の「複製」から、プライベートのワークスペースへ複製する。\n",
        "\n",
        "\n",
        "\n",
        "\n"
      ],
      "metadata": {
        "id": "JkS-_yzRQ5kL"
      }
    },
    {
      "cell_type": "markdown",
      "source": [
        "## インテグレーションを取得する\n",
        "\n",
        "1. [インテグレーション](https://www.notion.so/my-integrations)から、「新しいインテグレーション(New integration)」をクリックし作成する。\n",
        "2. インテグレーション名を決めて、typeはInternalを選択する。\n",
        "3. Saveで保存したあと、「内部インテグレーションシークレット(Internal Integration Secret)」をコピーしておく。これがトークンキー。"
      ],
      "metadata": {
        "id": "8TPsfBRSSsb1"
      }
    },
    {
      "cell_type": "markdown",
      "source": [
        "## データベースにアクセスする\n",
        "\n",
        "さっき作成したプライベートワークスペースのArticleDB(Template)を開いた状態で、右上の3点をクリックし、「接続」からArticleDBを選択する。これでデータベースにアクセスできるようになる。"
      ],
      "metadata": {
        "id": "NAVmuAXUUjsk"
      }
    },
    {
      "cell_type": "markdown",
      "source": [],
      "metadata": {
        "id": "np8QPUcoW4Oo"
      }
    },
    {
      "cell_type": "code",
      "execution_count": 2,
      "metadata": {
        "colab": {
          "base_uri": "https://localhost:8080/"
        },
        "id": "UZ_vJ3bJXO6m",
        "outputId": "08ded3bd-5291-4961-dc2e-2788aefcbb1a",
        "collapsed": true
      },
      "outputs": [
        {
          "output_type": "stream",
          "name": "stdout",
          "text": [
            "Collecting git+https://github.com/issakuss/papnt.git@main\n",
            "  Cloning https://github.com/issakuss/papnt.git (to revision main) to /tmp/pip-req-build-ihb_3ybv\n",
            "  Running command git clone --filter=blob:none --quiet https://github.com/issakuss/papnt.git /tmp/pip-req-build-ihb_3ybv\n",
            "  Resolved https://github.com/issakuss/papnt.git to commit e6a512aeca79438443f6a726b410da5fce4afa6d\n",
            "  Preparing metadata (setup.py) ... \u001b[?25l\u001b[?25hdone\n",
            "Collecting bibtexparser>=1.4.0 (from papnt==0.2.1)\n",
            "  Downloading bibtexparser-1.4.3.tar.gz (55 kB)\n",
            "\u001b[2K     \u001b[90m━━━━━━━━━━━━━━━━━━━━━━━━━━━━━━━━━━━━━━━━\u001b[0m \u001b[32m55.6/55.6 kB\u001b[0m \u001b[31m3.5 MB/s\u001b[0m eta \u001b[36m0:00:00\u001b[0m\n",
            "\u001b[?25h  Preparing metadata (setup.py) ... \u001b[?25l\u001b[?25hdone\n",
            "Requirement already satisfied: click>=8.0.4 in /usr/local/lib/python3.11/dist-packages (from papnt==0.2.1) (8.1.8)\n",
            "Collecting crossrefapi>=1.5.0 (from papnt==0.2.1)\n",
            "  Downloading crossrefapi-1.6.0-py3-none-any.whl.metadata (538 bytes)\n",
            "Collecting iso4>=0.0.2 (from papnt==0.2.1)\n",
            "  Downloading iso4-0.0.2.tar.gz (886 kB)\n",
            "\u001b[2K     \u001b[90m━━━━━━━━━━━━━━━━━━━━━━━━━━━━━━━━━━━━━━\u001b[0m \u001b[32m886.5/886.5 kB\u001b[0m \u001b[31m19.5 MB/s\u001b[0m eta \u001b[36m0:00:00\u001b[0m\n",
            "\u001b[?25h  Preparing metadata (setup.py) ... \u001b[?25l\u001b[?25hdone\n",
            "Requirement already satisfied: nltk>=3.6.7 in /usr/local/lib/python3.11/dist-packages (from papnt==0.2.1) (3.9.1)\n",
            "Collecting notion-client>=2.0.0 (from papnt==0.2.1)\n",
            "  Downloading notion_client-2.3.0-py2.py3-none-any.whl.metadata (11 kB)\n",
            "Collecting pdf2doi>=1.5 (from papnt==0.2.1)\n",
            "  Downloading pdf2doi-1.7-py3-none-any.whl.metadata (25 kB)\n",
            "Collecting unidecode>=1.3.6 (from papnt==0.2.1)\n",
            "  Downloading Unidecode-1.4.0-py3-none-any.whl.metadata (13 kB)\n",
            "Collecting arxiv>=2.1.0 (from papnt==0.2.1)\n",
            "  Downloading arxiv-2.2.0-py3-none-any.whl.metadata (6.3 kB)\n",
            "Collecting grobid-client-python>=0.0.9 (from papnt==0.2.1)\n",
            "  Downloading grobid_client_python-0.0.9-py3-none-any.whl.metadata (23 kB)\n",
            "Collecting lxml==4.9.4 (from papnt==0.2.1)\n",
            "  Downloading lxml-4.9.4-cp311-cp311-manylinux_2_28_x86_64.whl.metadata (3.7 kB)\n",
            "Collecting feedparser~=6.0.10 (from arxiv>=2.1.0->papnt==0.2.1)\n",
            "  Downloading feedparser-6.0.11-py3-none-any.whl.metadata (2.4 kB)\n",
            "Requirement already satisfied: requests~=2.32.0 in /usr/local/lib/python3.11/dist-packages (from arxiv>=2.1.0->papnt==0.2.1) (2.32.3)\n",
            "Requirement already satisfied: pyparsing>=2.0.3 in /usr/local/lib/python3.11/dist-packages (from bibtexparser>=1.4.0->papnt==0.2.1) (3.2.3)\n",
            "Collecting urllib3==1.26.16 (from crossrefapi>=1.5.0->papnt==0.2.1)\n",
            "  Downloading urllib3-1.26.16-py2.py3-none-any.whl.metadata (48 kB)\n",
            "\u001b[2K     \u001b[90m━━━━━━━━━━━━━━━━━━━━━━━━━━━━━━━━━━━━━━━━\u001b[0m \u001b[32m48.4/48.4 kB\u001b[0m \u001b[31m2.3 MB/s\u001b[0m eta \u001b[36m0:00:00\u001b[0m\n",
            "\u001b[?25hRequirement already satisfied: regex>=2017.4.5 in /usr/local/lib/python3.11/dist-packages (from iso4>=0.0.2->papnt==0.2.1) (2024.11.6)\n",
            "Requirement already satisfied: joblib in /usr/local/lib/python3.11/dist-packages (from nltk>=3.6.7->papnt==0.2.1) (1.4.2)\n",
            "Requirement already satisfied: tqdm in /usr/local/lib/python3.11/dist-packages (from nltk>=3.6.7->papnt==0.2.1) (4.67.1)\n",
            "Requirement already satisfied: httpx>=0.23.0 in /usr/local/lib/python3.11/dist-packages (from notion-client>=2.0.0->papnt==0.2.1) (0.28.1)\n",
            "Collecting google>=3.0.0 (from pdf2doi>=1.5->papnt==0.2.1)\n",
            "  Downloading google-3.0.0-py2.py3-none-any.whl.metadata (627 bytes)\n",
            "Collecting pypdf2==2.0.0 (from pdf2doi>=1.5->papnt==0.2.1)\n",
            "  Downloading PyPDF2-2.0.0-py3-none-any.whl.metadata (5.7 kB)\n",
            "Collecting pdftitle>=0.3 (from pdf2doi>=1.5->papnt==0.2.1)\n",
            "  Downloading pdftitle-0.20-py3-none-any.whl.metadata (12 kB)\n",
            "Requirement already satisfied: pyperclip in /usr/local/lib/python3.11/dist-packages (from pdf2doi>=1.5->papnt==0.2.1) (1.9.0)\n",
            "Collecting easygui (from pdf2doi>=1.5->papnt==0.2.1)\n",
            "  Downloading easygui-0.98.3-py2.py3-none-any.whl.metadata (8.4 kB)\n",
            "Collecting pdfminer.six==20221105 (from pdf2doi>=1.5->papnt==0.2.1)\n",
            "  Downloading pdfminer.six-20221105-py3-none-any.whl.metadata (4.0 kB)\n",
            "Collecting pymupdf>=1.21.0 (from pdf2doi>=1.5->papnt==0.2.1)\n",
            "  Downloading pymupdf-1.25.5-cp39-abi3-manylinux2014_x86_64.manylinux_2_17_x86_64.whl.metadata (3.4 kB)\n",
            "Collecting pypdf (from pdf2doi>=1.5->papnt==0.2.1)\n",
            "  Downloading pypdf-5.4.0-py3-none-any.whl.metadata (7.3 kB)\n",
            "Requirement already satisfied: charset-normalizer>=2.0.0 in /usr/local/lib/python3.11/dist-packages (from pdfminer.six==20221105->pdf2doi>=1.5->papnt==0.2.1) (3.4.1)\n",
            "Requirement already satisfied: cryptography>=36.0.0 in /usr/local/lib/python3.11/dist-packages (from pdfminer.six==20221105->pdf2doi>=1.5->papnt==0.2.1) (43.0.3)\n",
            "Collecting sgmllib3k (from feedparser~=6.0.10->arxiv>=2.1.0->papnt==0.2.1)\n",
            "  Downloading sgmllib3k-1.0.0.tar.gz (5.8 kB)\n",
            "  Preparing metadata (setup.py) ... \u001b[?25l\u001b[?25hdone\n",
            "Requirement already satisfied: beautifulsoup4 in /usr/local/lib/python3.11/dist-packages (from google>=3.0.0->pdf2doi>=1.5->papnt==0.2.1) (4.13.4)\n",
            "Requirement already satisfied: anyio in /usr/local/lib/python3.11/dist-packages (from httpx>=0.23.0->notion-client>=2.0.0->papnt==0.2.1) (4.9.0)\n",
            "Requirement already satisfied: certifi in /usr/local/lib/python3.11/dist-packages (from httpx>=0.23.0->notion-client>=2.0.0->papnt==0.2.1) (2025.4.26)\n",
            "Requirement already satisfied: httpcore==1.* in /usr/local/lib/python3.11/dist-packages (from httpx>=0.23.0->notion-client>=2.0.0->papnt==0.2.1) (1.0.9)\n",
            "Requirement already satisfied: idna in /usr/local/lib/python3.11/dist-packages (from httpx>=0.23.0->notion-client>=2.0.0->papnt==0.2.1) (3.10)\n",
            "Requirement already satisfied: h11>=0.16 in /usr/local/lib/python3.11/dist-packages (from httpcore==1.*->httpx>=0.23.0->notion-client>=2.0.0->papnt==0.2.1) (0.16.0)\n",
            "INFO: pip is looking at multiple versions of pdftitle to determine which version is compatible with other requirements. This could take a while.\n",
            "Collecting pdftitle>=0.3 (from pdf2doi>=1.5->papnt==0.2.1)\n",
            "  Downloading pdftitle-0.18-py3-none-any.whl.metadata (10 kB)\n",
            "  Downloading pdftitle-0.17-py3-none-any.whl.metadata (10 kB)\n",
            "  Downloading pdftitle-0.16-py3-none-any.whl.metadata (10 kB)\n",
            "  Downloading pdftitle-0.15-py3-none-any.whl.metadata (7.6 kB)\n",
            "  Downloading pdftitle-0.14-py3-none-any.whl.metadata (7.3 kB)\n",
            "  Downloading pdftitle-0.13.tar.gz (30 kB)\n",
            "  Preparing metadata (setup.py) ... \u001b[?25l\u001b[?25hdone\n",
            "  Downloading pdftitle-0.12.tar.gz (27 kB)\n",
            "  Preparing metadata (setup.py) ... \u001b[?25l\u001b[?25hdone\n",
            "INFO: pip is still looking at multiple versions of pdftitle to determine which version is compatible with other requirements. This could take a while.\n",
            "  Downloading pdftitle-0.11.tar.gz (10 kB)\n",
            "  Preparing metadata (setup.py) ... \u001b[?25l\u001b[?25hdone\n",
            "Requirement already satisfied: cffi>=1.12 in /usr/local/lib/python3.11/dist-packages (from cryptography>=36.0.0->pdfminer.six==20221105->pdf2doi>=1.5->papnt==0.2.1) (1.17.1)\n",
            "Requirement already satisfied: sniffio>=1.1 in /usr/local/lib/python3.11/dist-packages (from anyio->httpx>=0.23.0->notion-client>=2.0.0->papnt==0.2.1) (1.3.1)\n",
            "Requirement already satisfied: typing_extensions>=4.5 in /usr/local/lib/python3.11/dist-packages (from anyio->httpx>=0.23.0->notion-client>=2.0.0->papnt==0.2.1) (4.13.2)\n",
            "Requirement already satisfied: soupsieve>1.2 in /usr/local/lib/python3.11/dist-packages (from beautifulsoup4->google>=3.0.0->pdf2doi>=1.5->papnt==0.2.1) (2.7)\n",
            "Requirement already satisfied: pycparser in /usr/local/lib/python3.11/dist-packages (from cffi>=1.12->cryptography>=36.0.0->pdfminer.six==20221105->pdf2doi>=1.5->papnt==0.2.1) (2.22)\n",
            "Downloading lxml-4.9.4-cp311-cp311-manylinux_2_28_x86_64.whl (7.9 MB)\n",
            "\u001b[2K   \u001b[90m━━━━━━━━━━━━━━━━━━━━━━━━━━━━━━━━━━━━━━━━\u001b[0m \u001b[32m7.9/7.9 MB\u001b[0m \u001b[31m108.5 MB/s\u001b[0m eta \u001b[36m0:00:00\u001b[0m\n",
            "\u001b[?25hDownloading arxiv-2.2.0-py3-none-any.whl (11 kB)\n",
            "Downloading crossrefapi-1.6.0-py3-none-any.whl (14 kB)\n",
            "Downloading urllib3-1.26.16-py2.py3-none-any.whl (143 kB)\n",
            "\u001b[2K   \u001b[90m━━━━━━━━━━━━━━━━━━━━━━━━━━━━━━━━━━━━━━━━\u001b[0m \u001b[32m143.1/143.1 kB\u001b[0m \u001b[31m13.9 MB/s\u001b[0m eta \u001b[36m0:00:00\u001b[0m\n",
            "\u001b[?25hDownloading grobid_client_python-0.0.9-py3-none-any.whl (19 kB)\n",
            "Downloading notion_client-2.3.0-py2.py3-none-any.whl (13 kB)\n",
            "Downloading pdf2doi-1.7-py3-none-any.whl (33 kB)\n",
            "Downloading pdfminer.six-20221105-py3-none-any.whl (5.6 MB)\n",
            "\u001b[2K   \u001b[90m━━━━━━━━━━━━━━━━━━━━━━━━━━━━━━━━━━━━━━━━\u001b[0m \u001b[32m5.6/5.6 MB\u001b[0m \u001b[31m92.5 MB/s\u001b[0m eta \u001b[36m0:00:00\u001b[0m\n",
            "\u001b[?25hDownloading PyPDF2-2.0.0-py3-none-any.whl (88 kB)\n",
            "\u001b[2K   \u001b[90m━━━━━━━━━━━━━━━━━━━━━━━━━━━━━━━━━━━━━━━━\u001b[0m \u001b[32m88.5/88.5 kB\u001b[0m \u001b[31m8.6 MB/s\u001b[0m eta \u001b[36m0:00:00\u001b[0m\n",
            "\u001b[?25hDownloading Unidecode-1.4.0-py3-none-any.whl (235 kB)\n",
            "\u001b[2K   \u001b[90m━━━━━━━━━━━━━━━━━━━━━━━━━━━━━━━━━━━━━━━━\u001b[0m \u001b[32m235.8/235.8 kB\u001b[0m \u001b[31m22.6 MB/s\u001b[0m eta \u001b[36m0:00:00\u001b[0m\n",
            "\u001b[?25hDownloading feedparser-6.0.11-py3-none-any.whl (81 kB)\n",
            "\u001b[2K   \u001b[90m━━━━━━━━━━━━━━━━━━━━━━━━━━━━━━━━━━━━━━━━\u001b[0m \u001b[32m81.3/81.3 kB\u001b[0m \u001b[31m8.3 MB/s\u001b[0m eta \u001b[36m0:00:00\u001b[0m\n",
            "\u001b[?25hDownloading google-3.0.0-py2.py3-none-any.whl (45 kB)\n",
            "\u001b[2K   \u001b[90m━━━━━━━━━━━━━━━━━━━━━━━━━━━━━━━━━━━━━━━━\u001b[0m \u001b[32m45.3/45.3 kB\u001b[0m \u001b[31m4.0 MB/s\u001b[0m eta \u001b[36m0:00:00\u001b[0m\n",
            "\u001b[?25hDownloading pymupdf-1.25.5-cp39-abi3-manylinux2014_x86_64.manylinux_2_17_x86_64.whl (20.0 MB)\n",
            "\u001b[2K   \u001b[90m━━━━━━━━━━━━━━━━━━━━━━━━━━━━━━━━━━━━━━━━\u001b[0m \u001b[32m20.0/20.0 MB\u001b[0m \u001b[31m39.7 MB/s\u001b[0m eta \u001b[36m0:00:00\u001b[0m\n",
            "\u001b[?25hDownloading easygui-0.98.3-py2.py3-none-any.whl (92 kB)\n",
            "\u001b[2K   \u001b[90m━━━━━━━━━━━━━━━━━━━━━━━━━━━━━━━━━━━━━━━━\u001b[0m \u001b[32m92.7/92.7 kB\u001b[0m \u001b[31m9.1 MB/s\u001b[0m eta \u001b[36m0:00:00\u001b[0m\n",
            "\u001b[?25hDownloading pypdf-5.4.0-py3-none-any.whl (302 kB)\n",
            "\u001b[2K   \u001b[90m━━━━━━━━━━━━━━━━━━━━━━━━━━━━━━━━━━━━━━━━\u001b[0m \u001b[32m302.3/302.3 kB\u001b[0m \u001b[31m26.0 MB/s\u001b[0m eta \u001b[36m0:00:00\u001b[0m\n",
            "\u001b[?25hBuilding wheels for collected packages: papnt, bibtexparser, iso4, pdftitle, sgmllib3k\n",
            "  Building wheel for papnt (setup.py) ... \u001b[?25l\u001b[?25hdone\n",
            "  Created wheel for papnt: filename=papnt-0.2.1-py3-none-any.whl size=15863 sha256=ff64d435f92ab7f3dfca904ff3505c4c8d58726db03dbc184418b468b79a704b\n",
            "  Stored in directory: /tmp/pip-ephem-wheel-cache-q3pqy2l2/wheels/4d/e5/99/1190af51ad1d5eef62907569031bdec61a64f0669c028866d9\n",
            "  Building wheel for bibtexparser (setup.py) ... \u001b[?25l\u001b[?25hdone\n",
            "  Created wheel for bibtexparser: filename=bibtexparser-1.4.3-py3-none-any.whl size=43549 sha256=8ce7ae8078f5a1b8cbc1e7da85fe18ffa8157f7c94d00648f0e7dfffc67f53ee\n",
            "  Stored in directory: /root/.cache/pip/wheels/16/fb/76/306387739cf9d53b1c39b0c8aadbbb17dc05f256756d8fd915\n",
            "  Building wheel for iso4 (setup.py) ... \u001b[?25l\u001b[?25hdone\n",
            "  Created wheel for iso4: filename=iso4-0.0.2-py3-none-any.whl size=902548 sha256=d38e3bd4160655d770ec20e7eff40a8407129b809e0105f24c37815478e3a921\n",
            "  Stored in directory: /root/.cache/pip/wheels/6b/1c/36/7c810ee52ffb51279f62dd84bced8687ec0b8bbdc3cc0bb4bd\n",
            "  Building wheel for pdftitle (setup.py) ... \u001b[?25l\u001b[?25hdone\n",
            "  Created wheel for pdftitle: filename=pdftitle-0.11-py3-none-any.whl size=10123 sha256=254c8774bbc78f8d6997f9f42964ce2a87f0ca6dc41c40fc5a7088ded2a047fe\n",
            "  Stored in directory: /root/.cache/pip/wheels/e7/77/58/34f5fde15919b111a9b20af10e90dbc9eae08a82c6bd047afb\n",
            "  Building wheel for sgmllib3k (setup.py) ... \u001b[?25l\u001b[?25hdone\n",
            "  Created wheel for sgmllib3k: filename=sgmllib3k-1.0.0-py3-none-any.whl size=6046 sha256=310d524edeef4fc7be51199135d5a0cf1cc66cfff924b2e88a5d78974db7eebb\n",
            "  Stored in directory: /root/.cache/pip/wheels/3b/25/2a/105d6a15df6914f4d15047691c6c28f9052cc1173e40285d03\n",
            "Successfully built papnt bibtexparser iso4 pdftitle sgmllib3k\n",
            "Installing collected packages: sgmllib3k, easygui, urllib3, unidecode, pypdf2, pypdf, pymupdf, lxml, feedparser, bibtexparser, iso4, google, pdfminer.six, notion-client, grobid-client-python, crossrefapi, arxiv, pdftitle, pdf2doi, papnt\n",
            "  Attempting uninstall: urllib3\n",
            "    Found existing installation: urllib3 2.4.0\n",
            "    Uninstalling urllib3-2.4.0:\n",
            "      Successfully uninstalled urllib3-2.4.0\n",
            "  Attempting uninstall: lxml\n",
            "    Found existing installation: lxml 5.4.0\n",
            "    Uninstalling lxml-5.4.0:\n",
            "      Successfully uninstalled lxml-5.4.0\n",
            "  Attempting uninstall: google\n",
            "    Found existing installation: google 2.0.3\n",
            "    Uninstalling google-2.0.3:\n",
            "      Successfully uninstalled google-2.0.3\n",
            "Successfully installed arxiv-2.2.0 bibtexparser-1.4.3 crossrefapi-1.6.0 easygui-0.98.3 feedparser-6.0.11 google-3.0.0 grobid-client-python-0.0.9 iso4-0.0.2 lxml-4.9.4 notion-client-2.3.0 papnt-0.2.1 pdf2doi-1.7 pdfminer.six-20221105 pdftitle-0.11 pymupdf-1.25.5 pypdf-5.4.0 pypdf2-2.0.0 sgmllib3k-1.0.0 unidecode-1.4.0 urllib3-1.26.16\n"
          ]
        }
      ],
      "source": [
        "# papntのインストール　実行するだけ\n",
        "!pip3 install git+https://github.com/issakuss/papnt.git@main"
      ]
    },
    {
      "cell_type": "code",
      "source": [
        "!git --version # git version ○○が表示されればOK."
      ],
      "metadata": {
        "colab": {
          "base_uri": "https://localhost:8080/"
        },
        "id": "HA-jZecMXlqL",
        "outputId": "ac47e421-e571-4637-e30b-e03a5f66d5bd"
      },
      "execution_count": null,
      "outputs": [
        {
          "output_type": "stream",
          "name": "stdout",
          "text": [
            "git version 2.34.1\n"
          ]
        }
      ]
    },
    {
      "cell_type": "code",
      "source": [
        "!papnt\n",
        "# 下記config.iniへのpathが表示される。pathをctrl+クリックでconfig.iniを編集する。\n",
        "#\n",
        "# try `papnt --help` for help\n",
        "# Open config.ini and edit database information:\n",
        "# (表示されるpathをここにコピー&ペーストして、ctrl+クリック)"
      ],
      "metadata": {
        "colab": {
          "base_uri": "https://localhost:8080/"
        },
        "id": "GzMIF0EtXuOj",
        "outputId": "f74b9a0b-4450-42c2-8d40-ddb1bf8f0872"
      },
      "execution_count": 3,
      "outputs": [
        {
          "output_type": "stream",
          "name": "stdout",
          "text": [
            "try `papnt --help` for help\n",
            "Open config.ini and edit database information: /usr/local/lib/python3.11/dist-packages/papnt/config.ini\n"
          ]
        }
      ]
    },
    {
      "cell_type": "markdown",
      "source": [
        "## config.iniを編集する\n",
        "クリックすると、右サイドバーにconfig.iniが表示される。これはローカルPC内のファイル。ファイルの中にある、\n",
        "```\n",
        "[database]\n",
        "    tokenkey = 'ここにトークンキーを入力'\n",
        "    database_id = 'ここにデータベースIDを入力'\n",
        "```\n",
        "\n",
        "tokenkey = '(Internal Integration Secret)'\n",
        "\n",
        "database_id = 'データベースID'\n",
        "\n",
        "を追記して、ctrl+Sで保存する。\n",
        "データベースIDは、ArticleDB(Template)の「テーブルビュー」をクリックし、「ビューのリンクをコピー」する。適当な場所に張り付けると、リンクは次のような形になっている。\n",
        "```\n",
        "https://notion.so/<データベースID>/?v=<ビューID>\n",
        "```"
      ],
      "metadata": {
        "id": "Xo470vZFXzjw"
      }
    },
    {
      "cell_type": "markdown",
      "source": [
        "## 論文の保存、情報の反映\n",
        "プライベートワークスペースのArticleDB(Template)にて、論文のDOIを入力する。次の\n",
        "```\n",
        "!papnt doi\n",
        "```\n",
        "を実行すると、他の情報もArticleDB(Template)に記録される。\n"
      ],
      "metadata": {
        "id": "e_Qg1OpNZDOE"
      }
    },
    {
      "cell_type": "code",
      "source": [
        "!papnt doi\n",
        "# これを実行するとArticleDB(Template)に情報を反映。"
      ],
      "metadata": {
        "id": "yJnSDdXhGuBT"
      },
      "execution_count": 4,
      "outputs": []
    },
    {
      "cell_type": "markdown",
      "source": [
        "次回以降、DOIを入力してデータベースを更新する際は再度このgoogle colabに接続して\n",
        "\n",
        "\n",
        "```\n",
        "# !pip3 install git+https://github.com/issakuss/papnt.git@main\n",
        "# !papnt doi\n",
        "```\n",
        "を実行すると情報が追加される。\n",
        "また、pdfファイルをアップロードすることも可能である。データベース内のPDF欄からアップロードした後に、!papnt doiの代わりに!papnt pdfを実行すればよい。\n",
        "\n"
      ],
      "metadata": {
        "id": "brFDdaTE41jP"
      }
    },
    {
      "cell_type": "code",
      "source": [
        "!pip3 install git+https://github.com/issakuss/papnt.git@main\n",
        "!papnt doi\n",
        "# !papnt pdf"
      ],
      "metadata": {
        "id": "DDu_kNOK5sRT"
      },
      "execution_count": null,
      "outputs": []
    }
  ]
}