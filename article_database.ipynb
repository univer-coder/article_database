{
  "nbformat": 4,
  "nbformat_minor": 0,
  "metadata": {
    "colab": {
      "provenance": [],
      "authorship_tag": "ABX9TyOMrBzlJ4NyNSLYjC2LN3az",
      "include_colab_link": true
    },
    "kernelspec": {
      "name": "python3",
      "display_name": "Python 3"
    },
    "language_info": {
      "name": "python"
    }
  },
  "cells": [
    {
      "cell_type": "markdown",
      "metadata": {
        "id": "view-in-github",
        "colab_type": "text"
      },
      "source": [
        "<a href=\"https://colab.research.google.com/github/univer-coder/article_database/blob/main/article_database.ipynb\" target=\"_parent\"><img src=\"https://colab.research.google.com/assets/colab-badge.svg\" alt=\"Open In Colab\"/></a>"
      ]
    },
    {
      "cell_type": "markdown",
      "source": [
        "#**Notionを使った論文管理**\n",
        "\n",
        "読んだ論文がまとまらずに煩雑になってしまう方の助けになれれば幸いです。"
      ],
      "metadata": {
        "id": "W9bBefW3QEDG"
      }
    },
    {
      "cell_type": "markdown",
      "source": [
        "## ArticleDB(Template)を用意する\n",
        "\n",
        "1. [https://www.notion.com/ja](https://www.notion.com/ja)から、notionアカウントを作成する。\n",
        "2. [ArticleDB](https://tofu-tsukuba.notion.site/Article-DataBase-8030b64e2cd247d68359d0edacf098c7)から、notionで外部のデータベーステンプレートを表示する。\n",
        "3. 右上の「複製」から、プライベートのワークスペースへ複製する。\n",
        "\n",
        "\n",
        "\n",
        "\n"
      ],
      "metadata": {
        "id": "JkS-_yzRQ5kL"
      }
    },
    {
      "cell_type": "markdown",
      "source": [
        "## インテグレーションを取得する\n",
        "\n",
        "1. [インテグレーション](https://www.notion.so/my-integrations)から、「新しいインテグレーション(New integration)」をクリックし作成する。\n",
        "2. インテグレーション名を決めて、typeはInternalを選択する。\n",
        "3. Saveで保存したあと、「内部インテグレーションシークレット(Internal Integration Secret)」をコピーしておく。これがトークンキー。"
      ],
      "metadata": {
        "id": "8TPsfBRSSsb1"
      }
    },
    {
      "cell_type": "markdown",
      "source": [
        "## データベースへのアクセス、データベースIDを取得する\n",
        "\n",
        "1. さっき作成したプライベートワークスペースのArticleDB(Template)を開いた状態で、右上の3点をクリックし、「接続」からArticleDBを選択する。これでデータベースにアクセスできるようになる。\n",
        "2. ArticleDB(Template)の「テーブルビュー」をクリックし、「ビューのリンクをコピー」する。適当な場所に張り付けると、\n",
        "```\n",
        "https://notion.so/<データベースID>/?v=<ビューID>\n",
        "```\n",
        "こんな感じになってるのでデータベースIDをコピーしておく。"
      ],
      "metadata": {
        "id": "NAVmuAXUUjsk"
      }
    },
    {
      "cell_type": "markdown",
      "source": [],
      "metadata": {
        "id": "np8QPUcoW4Oo"
      }
    },
    {
      "cell_type": "code",
      "execution_count": 45,
      "metadata": {
        "colab": {
          "base_uri": "https://localhost:8080/"
        },
        "id": "UZ_vJ3bJXO6m",
        "outputId": "83a4092d-b5ca-4a11-e6f9-fbf626e61481"
      },
      "outputs": [
        {
          "output_type": "stream",
          "name": "stdout",
          "text": [
            "Collecting git+https://github.com/issakuss/papnt.git@main\n",
            "  Cloning https://github.com/issakuss/papnt.git (to revision main) to /tmp/pip-req-build-6xtc__qe\n",
            "  Running command git clone --filter=blob:none --quiet https://github.com/issakuss/papnt.git /tmp/pip-req-build-6xtc__qe\n",
            "  Resolved https://github.com/issakuss/papnt.git to commit 8a312e5a49b767fad2164fd8bcc148072e63672c\n",
            "  Preparing metadata (setup.py) ... \u001b[?25l\u001b[?25hdone\n",
            "Requirement already satisfied: bibtexparser>=1.4.0 in /usr/local/lib/python3.11/dist-packages (from papnt==0.2.0) (1.4.3)\n",
            "Requirement already satisfied: click>=8.0.4 in /usr/local/lib/python3.11/dist-packages (from papnt==0.2.0) (8.1.8)\n",
            "Requirement already satisfied: crossrefapi>=1.5.0 in /usr/local/lib/python3.11/dist-packages (from papnt==0.2.0) (1.6.0)\n",
            "Requirement already satisfied: iso4>=0.0.2 in /usr/local/lib/python3.11/dist-packages (from papnt==0.2.0) (0.0.2)\n",
            "Requirement already satisfied: nltk>=3.6.7 in /usr/local/lib/python3.11/dist-packages (from papnt==0.2.0) (3.9.1)\n",
            "Requirement already satisfied: notion-client>=2.0.0 in /usr/local/lib/python3.11/dist-packages (from papnt==0.2.0) (2.3.0)\n",
            "Requirement already satisfied: pdf2doi>=1.5 in /usr/local/lib/python3.11/dist-packages (from papnt==0.2.0) (1.7)\n",
            "Requirement already satisfied: unidecode>=1.3.6 in /usr/local/lib/python3.11/dist-packages (from papnt==0.2.0) (1.4.0)\n",
            "Requirement already satisfied: arxiv>=2.1.0 in /usr/local/lib/python3.11/dist-packages (from papnt==0.2.0) (2.2.0)\n",
            "Requirement already satisfied: grobid-client-python>=0.0.9 in /usr/local/lib/python3.11/dist-packages (from papnt==0.2.0) (0.0.9)\n",
            "Requirement already satisfied: feedparser~=6.0.10 in /usr/local/lib/python3.11/dist-packages (from arxiv>=2.1.0->papnt==0.2.0) (6.0.11)\n",
            "Requirement already satisfied: requests~=2.32.0 in /usr/local/lib/python3.11/dist-packages (from arxiv>=2.1.0->papnt==0.2.0) (2.32.3)\n",
            "Requirement already satisfied: pyparsing>=2.0.3 in /usr/local/lib/python3.11/dist-packages (from bibtexparser>=1.4.0->papnt==0.2.0) (3.2.3)\n",
            "Requirement already satisfied: urllib3==1.26.16 in /usr/local/lib/python3.11/dist-packages (from crossrefapi>=1.5.0->papnt==0.2.0) (1.26.16)\n",
            "Requirement already satisfied: regex>=2017.4.5 in /usr/local/lib/python3.11/dist-packages (from iso4>=0.0.2->papnt==0.2.0) (2024.11.6)\n",
            "Requirement already satisfied: joblib in /usr/local/lib/python3.11/dist-packages (from nltk>=3.6.7->papnt==0.2.0) (1.4.2)\n",
            "Requirement already satisfied: tqdm in /usr/local/lib/python3.11/dist-packages (from nltk>=3.6.7->papnt==0.2.0) (4.67.1)\n",
            "Requirement already satisfied: httpx>=0.23.0 in /usr/local/lib/python3.11/dist-packages (from notion-client>=2.0.0->papnt==0.2.0) (0.28.1)\n",
            "Requirement already satisfied: google>=3.0.0 in /usr/local/lib/python3.11/dist-packages (from pdf2doi>=1.5->papnt==0.2.0) (3.0.0)\n",
            "Requirement already satisfied: pypdf2==2.0.0 in /usr/local/lib/python3.11/dist-packages (from pdf2doi>=1.5->papnt==0.2.0) (2.0.0)\n",
            "Requirement already satisfied: pdftitle>=0.3 in /usr/local/lib/python3.11/dist-packages (from pdf2doi>=1.5->papnt==0.2.0) (0.11)\n",
            "Requirement already satisfied: pyperclip in /usr/local/lib/python3.11/dist-packages (from pdf2doi>=1.5->papnt==0.2.0) (1.9.0)\n",
            "Requirement already satisfied: easygui in /usr/local/lib/python3.11/dist-packages (from pdf2doi>=1.5->papnt==0.2.0) (0.98.3)\n",
            "Requirement already satisfied: pdfminer.six==20221105 in /usr/local/lib/python3.11/dist-packages (from pdf2doi>=1.5->papnt==0.2.0) (20221105)\n",
            "Requirement already satisfied: pymupdf>=1.21.0 in /usr/local/lib/python3.11/dist-packages (from pdf2doi>=1.5->papnt==0.2.0) (1.25.5)\n",
            "Requirement already satisfied: pypdf in /usr/local/lib/python3.11/dist-packages (from pdf2doi>=1.5->papnt==0.2.0) (5.4.0)\n",
            "Requirement already satisfied: charset-normalizer>=2.0.0 in /usr/local/lib/python3.11/dist-packages (from pdfminer.six==20221105->pdf2doi>=1.5->papnt==0.2.0) (3.4.1)\n",
            "Requirement already satisfied: cryptography>=36.0.0 in /usr/local/lib/python3.11/dist-packages (from pdfminer.six==20221105->pdf2doi>=1.5->papnt==0.2.0) (43.0.3)\n",
            "Requirement already satisfied: sgmllib3k in /usr/local/lib/python3.11/dist-packages (from feedparser~=6.0.10->arxiv>=2.1.0->papnt==0.2.0) (1.0.0)\n",
            "Requirement already satisfied: beautifulsoup4 in /usr/local/lib/python3.11/dist-packages (from google>=3.0.0->pdf2doi>=1.5->papnt==0.2.0) (4.13.4)\n",
            "Requirement already satisfied: anyio in /usr/local/lib/python3.11/dist-packages (from httpx>=0.23.0->notion-client>=2.0.0->papnt==0.2.0) (4.9.0)\n",
            "Requirement already satisfied: certifi in /usr/local/lib/python3.11/dist-packages (from httpx>=0.23.0->notion-client>=2.0.0->papnt==0.2.0) (2025.4.26)\n",
            "Requirement already satisfied: httpcore==1.* in /usr/local/lib/python3.11/dist-packages (from httpx>=0.23.0->notion-client>=2.0.0->papnt==0.2.0) (1.0.9)\n",
            "Requirement already satisfied: idna in /usr/local/lib/python3.11/dist-packages (from httpx>=0.23.0->notion-client>=2.0.0->papnt==0.2.0) (3.10)\n",
            "Requirement already satisfied: h11>=0.16 in /usr/local/lib/python3.11/dist-packages (from httpcore==1.*->httpx>=0.23.0->notion-client>=2.0.0->papnt==0.2.0) (0.16.0)\n",
            "Requirement already satisfied: cffi>=1.12 in /usr/local/lib/python3.11/dist-packages (from cryptography>=36.0.0->pdfminer.six==20221105->pdf2doi>=1.5->papnt==0.2.0) (1.17.1)\n",
            "Requirement already satisfied: sniffio>=1.1 in /usr/local/lib/python3.11/dist-packages (from anyio->httpx>=0.23.0->notion-client>=2.0.0->papnt==0.2.0) (1.3.1)\n",
            "Requirement already satisfied: typing_extensions>=4.5 in /usr/local/lib/python3.11/dist-packages (from anyio->httpx>=0.23.0->notion-client>=2.0.0->papnt==0.2.0) (4.13.2)\n",
            "Requirement already satisfied: soupsieve>1.2 in /usr/local/lib/python3.11/dist-packages (from beautifulsoup4->google>=3.0.0->pdf2doi>=1.5->papnt==0.2.0) (2.7)\n",
            "Requirement already satisfied: pycparser in /usr/local/lib/python3.11/dist-packages (from cffi>=1.12->cryptography>=36.0.0->pdfminer.six==20221105->pdf2doi>=1.5->papnt==0.2.0) (2.22)\n"
          ]
        }
      ],
      "source": [
        "# papntのインストール　実行するだけ\n",
        "!pip3 install git+https://github.com/issakuss/papnt.git@main"
      ]
    },
    {
      "cell_type": "code",
      "source": [
        "!git --version # git version ○○が表示されればOK."
      ],
      "metadata": {
        "colab": {
          "base_uri": "https://localhost:8080/"
        },
        "id": "HA-jZecMXlqL",
        "outputId": "1534cb3b-b6d9-4b5a-d504-2822ea13bd17"
      },
      "execution_count": 2,
      "outputs": [
        {
          "output_type": "stream",
          "name": "stdout",
          "text": [
            "git version 2.34.1\n"
          ]
        }
      ]
    },
    {
      "cell_type": "code",
      "source": [
        "# from google.colab import drive\n",
        "# drive.mount('/content/drive')"
      ],
      "metadata": {
        "colab": {
          "base_uri": "https://localhost:8080/"
        },
        "id": "6Fe-FsvIo-DA",
        "outputId": "715fc664-86e9-4f93-ff8e-1db74731e3bb"
      },
      "execution_count": 3,
      "outputs": [
        {
          "output_type": "stream",
          "name": "stdout",
          "text": [
            "Mounted at /content/drive\n"
          ]
        }
      ]
    },
    {
      "cell_type": "code",
      "source": [
        "!papnt\n",
        "# 下記config.iniへのpathが表示される。pathをctrl+クリックでconfig.iniを編集可能。\n",
        "#\n",
        "# try `papnt --help` for help\n",
        "# Open config.ini and edit database information: (表示されるpathをここにコピー&ペーストして、ctrl+クリック)"
      ],
      "metadata": {
        "colab": {
          "base_uri": "https://localhost:8080/"
        },
        "id": "GzMIF0EtXuOj",
        "outputId": "0a07da91-1ab7-48f8-cc97-00f783899063"
      },
      "execution_count": 4,
      "outputs": [
        {
          "output_type": "stream",
          "name": "stdout",
          "text": [
            "try `papnt --help` for help\n",
            "Open config.ini and edit database information: /usr/local/lib/python3.11/dist-packages/papnt/config.ini\n"
          ]
        }
      ]
    },
    {
      "cell_type": "markdown",
      "source": [
        "## config.iniを編集する\n",
        "```\n",
        "[database]\n",
        "    tokenkey = ''\n",
        "    database_id = ''\n",
        "```\n",
        "先ほど取得した、\n",
        "tokenkey = '(Internal Integration Secret)'\n",
        "\n",
        "database_id = 'データベースID'\n",
        "\n",
        "を追記して、ctrl+Sで保存する。"
      ],
      "metadata": {
        "id": "Xo470vZFXzjw"
      }
    },
    {
      "cell_type": "markdown",
      "source": [
        "## 論文の保存、情報の反映\n",
        "プライベートワークスペースのArticleDB(Template)にて、論文のDOIを入力する。次の\n",
        "```\n",
        "!papnt doi\n",
        "```\n",
        "を実行すると、他の情報もArticleDB(Template)に記録される。\n"
      ],
      "metadata": {
        "id": "e_Qg1OpNZDOE"
      }
    },
    {
      "cell_type": "code",
      "source": [
        "!papnt doi\n",
        "# これを実行するとArticleDB(Template)に情報を反映。"
      ],
      "metadata": {
        "id": "yJnSDdXhGuBT"
      },
      "execution_count": 46,
      "outputs": []
    }
  ]
}